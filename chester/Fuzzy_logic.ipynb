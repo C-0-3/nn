{
  "nbformat": 4,
  "nbformat_minor": 0,
  "metadata": {
    "colab": {
      "provenance": []
    },
    "kernelspec": {
      "name": "python3",
      "display_name": "Python 3"
    },
    "language_info": {
      "name": "python"
    }
  },
  "cells": [
    {
      "cell_type": "code",
      "execution_count": null,
      "metadata": {
        "id": "SNKFulzY3gDp"
      },
      "outputs": [],
      "source": [
        "temperature = {\n",
        "    \"Low\" : [(-5),10,25],\n",
        "    \"BA\" :[15,30,45],\n",
        "    \"A\" : [40,50,60],\n",
        "    \"AA\" : [55, 60, 85],\n",
        "    \"High\": [75,90,105]\n",
        "}\n",
        "\n",
        "pressure = {\n",
        "    \"Low\" : [0.25,1,1.75],\n",
        "    \"BA\" :[1.25,2,2.75],\n",
        "    \"A\" : [2,3,4],\n",
        "    \"AA\" : [3.25, 4, 4.75],\n",
        "    \"High\": [4.25,5,5.75]\n",
        "}\n",
        "HP = {\n",
        "    \"Low\" : [0.25,1,1.75],\n",
        "    \"BA\" :[1.25,2,2.75],\n",
        "    \"A\" : [2,3,4],\n",
        "    \"AA\" : [3.25, 4, 4.75],\n",
        "    \"High\": [4.25,5,5.75]\n",
        "}\n",
        "\n",
        "VP = {\n",
        "    \"Low\" : [0.25,1,1.75],\n",
        "    \"BA\" :[1.25,2,2.75],\n",
        "    \"A\" : [2,3,4],\n",
        "    \"AA\" : [3.25, 4, 4.75],\n",
        "    \"High\": [4.25,5,5.75]\n",
        "}"
      ]
    },
    {
      "cell_type": "code",
      "source": [
        "temp  = 40\n",
        "combined_list_temp = []\n",
        "\n",
        "for key, values in temperature.items():\n",
        "    if temp in range(values[0], values[2]):\n",
        "        Z = values[1]\n",
        "        Z = [Z]\n",
        "        combined_list_temp.extend(Z)\n",
        "\n",
        "print(combined_list_temp)\n"
      ],
      "metadata": {
        "colab": {
          "base_uri": "https://localhost:8080/"
        },
        "id": "lbv4vaH-8mUo",
        "outputId": "9f777992-3bf3-49dc-acfa-66dd1fe9936a"
      },
      "execution_count": null,
      "outputs": [
        {
          "output_type": "stream",
          "name": "stdout",
          "text": [
            "[30, 50]\n"
          ]
        }
      ]
    },
    {
      "cell_type": "code",
      "source": [
        "press  = 1.3\n",
        "combined_list_press = []\n",
        "\n",
        "for key, values in pressure.items():\n",
        "\n",
        "    if values[0] <= press <= values[2]:\n",
        "        Z = values[1]\n",
        "        Z = [Z]\n",
        "        combined_list_press.extend(Z)\n",
        "\n",
        "print(combined_list_press)"
      ],
      "metadata": {
        "colab": {
          "base_uri": "https://localhost:8080/"
        },
        "id": "yMIGzlXj9K3Q",
        "outputId": "17f8e346-caad-4b2e-c2ba-8b87947d9be4"
      },
      "execution_count": null,
      "outputs": [
        {
          "output_type": "stream",
          "name": "stdout",
          "text": [
            "[1, 2]\n"
          ]
        }
      ]
    },
    {
      "cell_type": "code",
      "source": [
        "\n",
        "\n",
        "for key, values in pressure.items():\n",
        "\n",
        "    if values[1] <= press <= values[2]:\n",
        "        right = ((values[2]-press)/(values[2]-values[1]))\n",
        "        print(right)\n",
        "\n"
      ],
      "metadata": {
        "colab": {
          "base_uri": "https://localhost:8080/"
        },
        "id": "eD9yC1p06yY3",
        "outputId": "59da5279-7179-4e48-b9f1-b958a04c5df5"
      },
      "execution_count": null,
      "outputs": [
        {
          "output_type": "stream",
          "name": "stdout",
          "text": [
            "0.6\n"
          ]
        }
      ]
    },
    {
      "cell_type": "code",
      "source": [
        "import numpy as np\n",
        "\n",
        "def triangular_membership(x, a, b, c):\n",
        "\n",
        "  return max(0, min((x - a) / (b - a), (c - x) / (c - b)))\n",
        "\n"
      ],
      "metadata": {
        "id": "wRaTPeQ_4FYD"
      },
      "execution_count": null,
      "outputs": []
    },
    {
      "cell_type": "code",
      "source": [
        "def calculate_crisp_output(temp, press):\n",
        "\n",
        "\n",
        "\n",
        "  temp_BA = triangular_membership(temp, temperature[\"BA\"][0], temperature[\"BA\"][1], temperature[\"BA\"][2])\n",
        "  temp_Low = triangular_membership(temp, temperature[\"Low\"][0], temperature[\"Low\"][1], temperature[\"Low\"][2])\n",
        "  press_BA = triangular_membership(press, pressure[\"BA\"][0], pressure[\"BA\"][1], pressure[\"BA\"][2])\n",
        "  press_Low = triangular_membership(press, pressure[\"Low\"][0], pressure[\"Low\"][1], pressure[\"Low\"][2])\n",
        "\n",
        "\n",
        "  rule1_strength = min(temp_BA, press_BA)\n",
        "  rule2_strength = min(temp_Low, press_Low)\n",
        "\n",
        "\n",
        "  HP_AA = rule1_strength * HP[\"AA\"][1]\n",
        "  HP_High = rule2_strength * HP[\"High\"][1]\n",
        "\n",
        "  VP_BA = rule1_strength * VP[\"BA\"][1]\n",
        "  VP_Low = rule2_strength * VP[\"Low\"][1]\n",
        "\n",
        "\n",
        "\n",
        "  aggregated_HP = max(HP_AA, HP_High)\n",
        "  aggregated_VP = max(VP_BA, VP_Low)\n",
        "\n",
        "\n",
        "\n",
        "  crisp_HP = (HP_AA * HP[\"AA\"][1] + HP_High * HP[\"High\"][1]) / (HP_AA + HP_High) if (HP_AA + HP_High) != 0 else 0\n",
        "  crisp_VP = (VP_BA * VP[\"BA\"][1] + VP_Low * VP[\"Low\"][1]) / (VP_BA + VP_Low) if (VP_BA + VP_Low) != 0 else 0\n",
        "\n",
        "\n",
        "  return crisp_HP, crisp_VP\n",
        "\n",
        "\n",
        "temp = float(input(\"Enter Your Temperature: \"))\n",
        "press = float(input(\"Enter Your Pressure: \"))\n",
        "crisp_HP, crisp_VP = calculate_crisp_output(temp, press)\n",
        "print(f\"Crisp HP: {crisp_HP}\")\n",
        "print(f\"Crisp VP: {crisp_VP}\")"
      ],
      "metadata": {
        "colab": {
          "base_uri": "https://localhost:8080/"
        },
        "id": "4tqXJp_n6ki2",
        "outputId": "9628a903-066c-4acb-a97e-614588309b80"
      },
      "execution_count": null,
      "outputs": [
        {
          "output_type": "stream",
          "name": "stdout",
          "text": [
            "Enter Your Temperature: 17.5\n",
            "Enter Your Pressure: 1.8\n",
            "Crisp HP: 4.0\n",
            "Crisp VP: 2.0\n"
          ]
        }
      ]
    },
    {
      "cell_type": "code",
      "source": [
        "temp_values = [v for v in temperature.values()]\n",
        "press_values = [v for v in pressure.values()]\n",
        "sigma_temp = np.var(temp_values)\n",
        "sigma_press = np.var(press_values)\n",
        "print(sigma_temp)\n",
        "print(sigma_press)\n"
      ],
      "metadata": {
        "colab": {
          "base_uri": "https://localhost:8080/"
        },
        "id": "iSJS42UplB5d",
        "outputId": "42780be7-d0f5-4594-e5b2-2a3e4cdc8a81"
      },
      "execution_count": null,
      "outputs": [
        {
          "output_type": "stream",
          "name": "stdout",
          "text": [
            "912.8888888888888\n",
            "2.433333333333333\n"
          ]
        }
      ]
    },
    {
      "cell_type": "code",
      "source": [
        "def gaussian_membership(x, mean, sigma):\n",
        "    return np.exp(-((x - mean)**2) / (2 * (sigma**2)))\n",
        "\n",
        "\n",
        "def calculate_crisp_output(temp, press):\n",
        "\n",
        "    temp_BA = gaussian_membership(temp, temperature[\"BA\"][1], sigma_temp)\n",
        "    temp_Low = gaussian_membership(temp, temperature[\"Low\"][1], sigma_temp)\n",
        "\n",
        "\n",
        "    press_BA = gaussian_membership(press, pressure[\"BA\"][1], sigma_press)\n",
        "    press_Low = gaussian_membership(press, pressure[\"Low\"][1], sigma_press)\n",
        "\n",
        "    rule1_strength = min(temp_BA, press_BA)\n",
        "    rule2_strength = min(temp_Low, press_Low)\n",
        "\n",
        "\n",
        "    HP_AA = rule1_strength * HP[\"AA\"][1]\n",
        "    HP_High = rule2_strength * HP[\"High\"][1]\n",
        "\n",
        "    VP_BA = rule1_strength * VP[\"BA\"][1]\n",
        "    VP_Low = rule2_strength * VP[\"Low\"][1]\n",
        "\n",
        "\n",
        "    aggregated_HP = max(HP_AA, HP_High)\n",
        "    aggregated_VP = max(VP_BA, VP_Low)\n",
        "\n",
        "\n",
        "    crisp_HP = (HP_AA * HP[\"AA\"][1] + HP_High * HP[\"High\"][1]) / (\n",
        "        HP_AA + HP_High) if (HP_AA + HP_High) != 0 else 0\n",
        "    crisp_VP = (VP_BA * VP[\"BA\"][1] + VP_Low * VP[\"Low\"][1]) / (\n",
        "        VP_BA + VP_Low) if (VP_BA + VP_Low) != 0 else 0\n",
        "\n",
        "    return crisp_HP, crisp_VP\n",
        "\n",
        "\n",
        "\n",
        "temp_values = [v for v in temperature.values()]\n",
        "press_values = [v for v in pressure.values()]\n",
        "sigma_temp = np.std(temp_values)\n",
        "sigma_press = np.std(press_values)\n",
        "\n",
        "\n",
        "temp = float(input(\"Enter Your Temperature: \"))\n",
        "press = float(input(\"Enter Your Pressure: \"))\n",
        "\n",
        "crisp_HP, crisp_VP = calculate_crisp_output(temp, press)\n",
        "print(f\"Crisp HP: {crisp_HP}\")\n",
        "print(f\"Crisp VP: {crisp_VP}\")"
      ],
      "metadata": {
        "colab": {
          "base_uri": "https://localhost:8080/"
        },
        "id": "MyXieI4YrkqK",
        "outputId": "5b517108-65cc-48e2-e73d-d506d7ad9556"
      },
      "execution_count": null,
      "outputs": [
        {
          "output_type": "stream",
          "name": "stdout",
          "text": [
            "Enter Your Temperature: 17.5\n",
            "Enter Your Pressure: 1.8\n",
            "Crisp HP: 4.544188579520942\n",
            "Crisp VP: 1.6767933463451254\n"
          ]
        }
      ]
    }
  ]
}