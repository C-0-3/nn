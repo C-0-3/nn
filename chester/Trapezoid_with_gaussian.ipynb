{
  "nbformat": 4,
  "nbformat_minor": 0,
  "metadata": {
    "colab": {
      "provenance": []
    },
    "kernelspec": {
      "name": "python3",
      "display_name": "Python 3"
    },
    "language_info": {
      "name": "python"
    }
  },
  "cells": [
    {
      "cell_type": "code",
      "execution_count": null,
      "metadata": {
        "colab": {
          "base_uri": "https://localhost:8080/"
        },
        "id": "fdK9mPNJ-4mk",
        "outputId": "4d13a820-2ee9-479c-f7a5-e0347630650c"
      },
      "outputs": [
        {
          "output_type": "stream",
          "name": "stdout",
          "text": [
            "Requirement already satisfied: scikit-fuzzy in /usr/local/lib/python3.11/dist-packages (0.5.0)\n"
          ]
        }
      ],
      "source": [
        "!pip install -U scikit-fuzzy\n",
        "import numpy as np\n",
        "import skfuzzy as fuzz\n",
        "from skfuzzy import control as ctrl"
      ]
    },
    {
      "cell_type": "code",
      "source": [
        "\n",
        "temp= ctrl.Antecedent(np.arange(0, 41), 'temperature')\n",
        "hum = ctrl.Antecedent(np.arange(0, 101), 'humidity')\n",
        "\n",
        "\n",
        "cmd = ctrl.Consequent(np.arange(15, 27), 'command')"
      ],
      "metadata": {
        "id": "9kMAw1n0-5qY"
      },
      "execution_count": null,
      "outputs": []
    },
    {
      "cell_type": "code",
      "source": [
        "\n",
        "temp['coldest'] = fuzz.trapmf(temp.universe, [0, 4, 6, 8])\n",
        "temp['cold'] = fuzz.trapmf(temp.universe, [6, 10, 12, 16])\n",
        "temp['warm'] = fuzz.trapmf(temp.universe, [12, 16, 18, 24])\n",
        "temp['hot'] = fuzz.trapmf(temp.universe, [18, 22, 24, 32])\n",
        "temp['hottest'] = fuzz.trapmf(temp.universe, [24, 28, 30, 40])\n",
        "\n",
        "\n",
        "hum['low'] = fuzz.gaussmf(hum.universe, 0, 30) # 0,15\n",
        "hum['optimal'] = fuzz.gaussmf(hum.universe, 50, 15) # 50, 15\n",
        "hum['high'] = fuzz.gaussmf(hum.universe, 100, 50) # 100,15\n",
        "\n",
        "\n",
        "cmd['cool'] = fuzz.trimf(cmd.universe, [15, 17, 20])\n",
        "cmd['warmup'] = fuzz.trimf(cmd.universe, [18, 20, 26])\n",
        "# Rule system\n",
        "# Rules for warming up\n",
        "rule1 = ctrl.Rule(\n",
        "    (temp['coldest'] & hum['low']) |\n",
        "    (temp['coldest'] & hum['optimal']) |\n",
        "    (temp['coldest'] & hum['high']) |\n",
        "    (temp['cold'] & hum['low']) |\n",
        "    (temp['cold'] & hum['optimal']) |\n",
        "    (temp['warm'] & hum['low']), cmd['warmup'])\n",
        "\n",
        "# Rules for cooling up\n",
        "rule2 = ctrl.Rule(\n",
        "    (temp['warm'] & hum['optimal']) |\n",
        "    (temp['warm'] & hum['high']) |\n",
        "    (temp['hot'] & hum['optimal']) |\n",
        "    (temp['hot'] & hum['high']) |\n",
        "    (temp['hottest'] & hum['low']) |\n",
        "    (temp['hottest'] & hum['optimal']) |\n",
        "    (temp['hottest'] & hum['high']), cmd['cool'])\n",
        "\n",
        "\n",
        "cmd_ctrl = ctrl.ControlSystem([rule1, rule2])\n",
        "cmd_output = ctrl.ControlSystemSimulation(cmd_ctrl)"
      ],
      "metadata": {
        "id": "kLpD4Cz9_cZD"
      },
      "execution_count": null,
      "outputs": []
    },
    {
      "cell_type": "code",
      "source": [
        "def generateOutput(temperature_value, humidity_value):\n",
        "    cmd_output.input['temperature'] = temperature_value\n",
        "    cmd_output.input['humidity'] = humidity_value\n",
        "\n",
        "    cmd_output.compute()\n",
        "\n",
        "    print(\"Command is defined between 15 y 26\")\n",
        "    return cmd_output.output['command']\n",
        "    # re_temp = round(cmd_output.output['command'], 1)\n",
        "    # if (cmd_output.output['command'] > 20):\n",
        "    #     return 'Warm up', re_temp\n",
        "    # elif (cmd_output.output['command'] < 20 and cmd_output.output['command'] > 18):\n",
        "    #     return 'No change', re_temp\n",
        "    # else:\n",
        "    #     return 'Cool Up', re_temp"
      ],
      "metadata": {
        "id": "_qy3Pgx4_rGN"
      },
      "execution_count": null,
      "outputs": []
    },
    {
      "cell_type": "code",
      "source": [
        "temperature = float(input(\"Current Temperature:\"))\n",
        "humidity = float(input(\"Current Humidity:\"))\n",
        "out = generateOutput(temperature, humidity)\n",
        "print(\"Crisp value : \", out)\n",
        "print(\"The AC should Set itself to \", round(out), \" acccording to the rules given\")"
      ],
      "metadata": {
        "colab": {
          "base_uri": "https://localhost:8080/"
        },
        "id": "PFB2Ibgt_uVG",
        "outputId": "5374ea3e-3e88-4d68-dc49-3fea9b53d778"
      },
      "execution_count": null,
      "outputs": [
        {
          "output_type": "stream",
          "name": "stdout",
          "text": [
            "Current Temperature:35\n",
            "Current Humidity:90\n",
            "Command is defined between 15 y 26\n",
            "Crisp value :  17.38888888888889\n",
            "The AC should Set itself to  17  acccording to the rules given\n"
          ]
        }
      ]
    },
    {
      "cell_type": "code",
      "source": [],
      "metadata": {
        "id": "6ZE2FF8ZAN4J"
      },
      "execution_count": null,
      "outputs": []
    }
  ]
}