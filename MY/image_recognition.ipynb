{
 "cells": [
  {
   "cell_type": "code",
   "execution_count": null,
   "id": "1c15e490",
   "metadata": {
    "vscode": {
     "languageId": "plaintext"
    }
   },
   "outputs": [],
   "source": [
    "!pip install tensorflow matplotlib scikit-learn Pillow tk seaborn ipywidgets"
   ]
  },
  {
   "cell_type": "code",
   "execution_count": null,
   "id": "b8a3e1d3",
   "metadata": {
    "vscode": {
     "languageId": "plaintext"
    }
   },
   "outputs": [],
   "source": [
    "import tensorflow as tf\n",
    "import numpy as np\n",
    "import matplotlib.pyplot as plt\n",
    "import seaborn as sns\n",
    "from sklearn.metrics import confusion_matrix\n",
    "from tkinter import Tk, filedialog\n",
    "from PIL import Image\n",
    "import os\n",
    "import io\n",
    "from ipywidgets import FileUpload\n",
    "from ipywidgets import FileUpload, Button, VBox, Label\n",
    "import ipywidgets as widgets\n",
    "from tkinter import filedialog, Tk\n",
    "from IPython.display import display\n"
   ]
  },
  {
   "cell_type": "code",
   "execution_count": null,
   "id": "6bdc00c5",
   "metadata": {
    "vscode": {
     "languageId": "plaintext"
    }
   },
   "outputs": [],
   "source": [
    "# Load MNIST dataset\n",
    "mnist = tf.keras.datasets.mnist\n",
    "(x_train, y_train), (x_test, y_test) = mnist.load_data()\n",
    "\n",
    "# Normalize the data to [0, 1]\n",
    "x_train, x_test = x_train / 255.0, x_test / 255.0\n",
    "\n",
    "# Define the ANN model\n",
    "model = tf.keras.Sequential([\n",
    "    tf.keras.layers.Flatten(input_shape=(28, 28)),\n",
    "    tf.keras.layers.Dense(128, activation='relu'),\n",
    "    tf.keras.layers.Dropout(0.2),\n",
    "    tf.keras.layers.Dense(10, activation='softmax')\n",
    "])\n",
    "\n",
    "model.compile(optimizer=tf.keras.optimizers.Adam(learning_rate=0.001),\n",
    "              loss='sparse_categorical_crossentropy',\n",
    "              metrics=['accuracy'])\n",
    "\n",
    "# Train the model with validation split for better performance tracking\n",
    "model.fit(x_train, y_train, epochs=5, batch_size=64, validation_split=0.2, verbose=2)\n",
    "\n",
    "# Evaluate the model\n",
    "test_loss, test_acc = model.evaluate(x_test, y_test)\n",
    "print(f\"Test Accuracy: {test_acc:.4f}\")\n",
    "\n",
    "# Confusion Matrix\n",
    "y_pred = model.predict(x_test)\n",
    "y_pred_classes = np.argmax(y_pred, axis=1)\n",
    "\n",
    "# Display confusion matrix\n",
    "cm = confusion_matrix(y_test, y_pred_classes)\n"
   ]
  },
  {
   "cell_type": "code",
   "execution_count": null,
   "id": "0f09aeed",
   "metadata": {
    "vscode": {
     "languageId": "plaintext"
    }
   },
   "outputs": [],
   "source": [
    "# Plot confusion matrix heatmap\n",
    "plt.figure(figsize=(8, 6))\n",
    "sns.heatmap(cm, annot=True, fmt=\"d\", cmap=\"Blues\", xticklabels=np.arange(10), yticklabels=np.arange(10))\n",
    "plt.title('Confusion Matrix')\n",
    "plt.xlabel('Predicted')\n",
    "plt.ylabel('True')\n",
    "plt.show()\n",
    "\n",
    "# Define a function to display an image and its prediction\n",
    "def display_image_and_prediction(image, prediction, actual_label):\n",
    "    plt.imshow(image, cmap=plt.cm.binary)\n",
    "    plt.title(f\"Prediction: {prediction}, Actual: {actual_label}\")\n",
    "    plt.show()\n",
    "\n",
    "# Show a sample image and prediction\n",
    "index = np.random.randint(0, len(x_test))\n",
    "sample_image = x_test[index]\n",
    "true_label = y_test[index]\n",
    "prediction = np.argmax(model.predict(np.expand_dims(sample_image, axis=0)))\n",
    "\n",
    "display_image_and_prediction(sample_image, prediction, true_label)\n"
   ]
  },
  {
   "cell_type": "code",
   "execution_count": null,
   "id": "c7f86add",
   "metadata": {
    "vscode": {
     "languageId": "plaintext"
    }
   },
   "outputs": [],
   "source": [
    "def process_image(image_data):\n",
    "    # This is the function that will process the uploaded image data\n",
    "    # You can replace this with any functionality you need\n",
    "    print(\"Image has been uploaded and is ready for processing.\")\n",
    "    # Here we would do something with `image_data`, like opening or processing it\n",
    "    return image_data\n",
    "\n",
    "def choose_image(environment=\"browser\"):\n",
    "    if environment == \"desktop\":\n",
    "        root = Tk()\n",
    "        root.withdraw()  # Don't need the full tkinter window\n",
    "        file_path = filedialog.askopenfilename(title=\"Select an image\", filetypes=[(\"Image files\", \"*.png;*.jpg;*.jpeg;*.bmp;*.gif\")])\n",
    "        return file_path\n",
    "    elif environment == \"browser\":\n",
    "        uploader = FileUpload(\n",
    "            accept='image/*',  # Accept all image types\n",
    "            multiple=False  # Only allow single file upload\n",
    "        )\n",
    "        display(uploader)\n",
    "\n",
    "        # This function will be called once the file is uploaded\n",
    "        def on_upload_change(change):\n",
    "            # We only process the image when a file is uploaded\n",
    "            if uploader.value:\n",
    "                # Loop through the dictionary (even if there's only one file)\n",
    "                for filename, file_info in uploader.value.items():\n",
    "                    # Access the uploaded file content directly using the 'content' key\n",
    "                    # instead of assuming it's the first element of a list\n",
    "                    uploaded_file_content = file_info['content']\n",
    "                    \n",
    "                    # Convert the uploaded file content into an in-memory file\n",
    "                    image_data = io.BytesIO(uploaded_file_content)  \n",
    "                    # Call the process_image function with the uploaded image\n",
    "                    process_image(image_data)\n",
    "                uploader.close()  # Close the uploader once done\n",
    "\n",
    "        # Observe the upload value and call the on_upload_change function\n",
    "        uploader.observe(on_upload_change, names='value')\n",
    "    else:\n",
    "        raise ValueError(\"Invalid environment specified. Choose 'desktop' or 'browser'.\")\n",
    "\n",
    "\n",
    "def process_image(image_data):\n",
    "    # Open the image using PIL\n",
    "    img = Image.open(image_data).convert('L')  # Convert to grayscale\n",
    "\n",
    "    # Resize the image to 28x28 pixels (common size for MNIST)\n",
    "    img = img.resize((28, 28))\n",
    "\n",
    "    # Normalize the image to be between 0 and 1\n",
    "    img_array = np.array(img) / 255.0\n",
    "\n",
    "    # Example of model prediction (replace with actual model prediction)\n",
    "    prediction = np.argmax(model.predict(np.expand_dims(img_array, axis=0)))\n",
    "\n",
    "    # Display the uploaded image and prediction\n",
    "    display_image_and_prediction(img_array, prediction, \"Unknown\")\n",
    "\n",
    "    # Display interactive button to save the model\n",
    "    display_save_button(prediction)\n",
    "\n",
    "def display_image_and_prediction(img_array, prediction, label):\n",
    "    # This function will display the image and prediction result\n",
    "    print(f\"Prediction: {prediction} | Label: {label}\")\n",
    "    # If you want to display the image using matplotlib (optional)\n",
    "    # import matplotlib.pyplot as plt\n",
    "    # plt.imshow(img_array, cmap='gray')\n",
    "    # plt.show()\n",
    "\n",
    "def display_save_button(prediction):\n",
    "    # Create a button for saving the model if prediction is correct\n",
    "    button = Button(description=\"Save Model\")\n",
    "    output = widgets.Output()\n",
    "\n",
    "    # Define the function to handle button click\n",
    "    def on_button_click(b):\n",
    "        true_label = 7  # You would replace this with the true label if you have it\n",
    "        if prediction == true_label:\n",
    "            model.save('mnist_model.h5')\n",
    "            print(\"Model saved as mnist_model.h5\")\n",
    "\n",
    "    button.on_click(on_button_click)\n",
    "    \n",
    "    # Display the button and output widget\n",
    "    display(VBox([button, output]))\n",
    "\n",
    "# Get user input for environment\n",
    "environment = input(\"Are you using this in a 'desktop' or 'browser' environment? \").lower()\n",
    "\n",
    "# Example usage:\n",
    "file_path = choose_image(environment=environment)\n",
    "\n",
    "print(type(file_path))"
   ]
  }
 ],
 "metadata": {
  "language_info": {
   "name": "python"
  }
 },
 "nbformat": 4,
 "nbformat_minor": 5
}
